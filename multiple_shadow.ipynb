{
 "cells": [
  {
   "cell_type": "code",
   "execution_count": 1,
   "metadata": {},
   "outputs": [
    {
     "name": "stderr",
     "output_type": "stream",
     "text": [
      "WARNING: all-qubit error already exists for instruction \"u3\", composing with additional error.\n",
      "WARNING: all-qubit error already exists for instruction \"cx\", composing with additional error.\n",
      "WARNING: all-qubit error already exists for instruction \"u3\", composing with additional error.\n",
      "WARNING: all-qubit error already exists for instruction \"cx\", composing with additional error.\n"
     ]
    },
    {
     "name": "stdout",
     "output_type": "stream",
     "text": [
      "0 16:14:26 success\n",
      "1 16:45:04 success\n",
      "2 17:17:07 success\n",
      "3 17:48:53 success\n",
      "4 18:16:23 success\n",
      "5 18:51:50 success\n",
      "6 19:23:04 success\n",
      "7 19:39:05 success\n",
      "8 19:54:49 success\n",
      "9 20:11:52 success\n",
      "noise_scale = 0.5, num_repeats = 1000, num_shots = 1000, num_samples = 10\n",
      "s_off = 0.7974, h_off = -0.8494, h_diag = -0.9997, s0 = -1.0287, t1 = -0.7464\n",
      "em_s_off = 0.8929, em_h_off = -0.9529, em_h_diag = -1.0414, em_s0 = -1.0536, em_t1 = -0.8253\n"
     ]
    }
   ],
   "source": [
    "from shadow_tools import *\n",
    "noise_scale = [0.5, 0.75, 1, 1.25, 1.5]\n",
    "num_repeats = 1000\n",
    "num_shots = 1000\n",
    "num_samples = 10\n",
    "get_data(file_path = \"data\", noise_scale = noise_scale[0], num_repeats = num_repeats, num_shots = num_shots, num_samples = num_samples)\n",
    "# 4-6 hours"
   ]
  }
 ],
 "metadata": {
  "kernelspec": {
   "display_name": "shadow",
   "language": "python",
   "name": "python3"
  },
  "language_info": {
   "codemirror_mode": {
    "name": "ipython",
    "version": 3
   },
   "file_extension": ".py",
   "mimetype": "text/x-python",
   "name": "python",
   "nbconvert_exporter": "python",
   "pygments_lexer": "ipython3",
   "version": "3.9.16"
  }
 },
 "nbformat": 4,
 "nbformat_minor": 2
}

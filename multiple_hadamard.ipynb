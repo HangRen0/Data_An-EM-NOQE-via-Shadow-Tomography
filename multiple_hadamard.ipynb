{
 "cells": [
  {
   "cell_type": "code",
   "execution_count": 2,
   "metadata": {},
   "outputs": [
    {
     "name": "stderr",
     "output_type": "stream",
     "text": [
      "WARNING - WARNING: all-qubit error already exists for instruction \"u3\", composing with additional error.\n",
      "WARNING - WARNING: all-qubit error already exists for instruction \"cx\", composing with additional error.\n",
      "WARNING - WARNING: all-qubit error already exists for instruction \"u3\", composing with additional error.\n",
      "WARNING - WARNING: all-qubit error already exists for instruction \"cx\", composing with additional error.\n"
     ]
    },
    {
     "name": "stdout",
     "output_type": "stream",
     "text": [
      "S_off Done 00:47:55\n",
      "h_diag done 00:53:59\n",
      "h_off done 02:48:09\n",
      "0 02:48:09 success\n",
      "1 02:48:09 success\n",
      "2 02:48:09 success\n",
      "3 02:48:09 success\n",
      "4 02:48:09 success\n",
      "5 02:48:09 success\n",
      "6 02:48:09 success\n",
      "7 02:48:09 success\n",
      "8 02:48:09 success\n",
      "9 02:48:09 success\n",
      "10 02:48:09 success\n",
      "11 02:48:09 success\n",
      "12 02:48:09 success\n",
      "13 02:48:09 success\n",
      "14 02:48:09 success\n",
      "15 02:48:09 success\n",
      "16 02:48:09 success\n",
      "17 02:48:09 success\n",
      "18 02:48:09 success\n",
      "19 02:48:09 success\n",
      "Data collection done 02:48:09\n",
      "Removed index: []\n",
      "noise_scale = 0.5, num_shots = 100000.0, num_samples = 20\n",
      "s_off = 0.6769, h_off = -0.7200, h_diag = -1.0020, s0 = -1.0269, t1 = -0.8730\n",
      "em_s_off = 0.8917, em_h_off = -0.9502, em_h_diag = -1.0414, em_s0 = -1.0529, em_t1 = -0.8431\n"
     ]
    }
   ],
   "source": [
    "from hadamard_tools import *\n",
    "noise_scale = [0.5, 0.75, 1, 1.25, 1.5]\n",
    "#num_shots = int(1e6/(5*9/2))\n",
    "num_shots = 1e5\n",
    "num_samples = 20\n",
    "get_data(file_path = \"data6\", noise_scale = noise_scale[0], num_shots = num_shots, num_samples = num_samples)\n",
    "# 6 hours"
   ]
  }
 ],
 "metadata": {
  "kernelspec": {
   "display_name": "shadow",
   "language": "python",
   "name": "python3"
  },
  "language_info": {
   "codemirror_mode": {
    "name": "ipython",
    "version": 3
   },
   "file_extension": ".py",
   "mimetype": "text/x-python",
   "name": "python",
   "nbconvert_exporter": "python",
   "pygments_lexer": "ipython3",
   "version": "3.9.16"
  }
 },
 "nbformat": 4,
 "nbformat_minor": 2
}
